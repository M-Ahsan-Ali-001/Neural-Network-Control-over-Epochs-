{
  "nbformat": 4,
  "nbformat_minor": 0,
  "metadata": {
    "colab": {
      "name": "Control Over Epochs.ipynb",
      "provenance": []
    },
    "kernelspec": {
      "name": "python3",
      "display_name": "Python 3"
    },
    "language_info": {
      "name": "python"
    }
  },
  "cells": [
    {
      "cell_type": "code",
      "execution_count": 3,
      "metadata": {
        "colab": {
          "base_uri": "https://localhost:8080/"
        },
        "id": "2yl2t7JFDfhH",
        "outputId": "67b6c76d-86bf-4d81-f7d4-d14dc8baa94d"
      },
      "outputs": [
        {
          "output_type": "stream",
          "name": "stdout",
          "text": [
            "Epoch 1/5\n",
            "1875/1875 [==============================] - 9s 4ms/step - loss: 0.5027 - accuracy: 0.8245\n",
            "Epoch 2/5\n",
            "1875/1875 [==============================] - 4s 2ms/step - loss: 0.3755 - accuracy: 0.8641\n"
          ]
        },
        {
          "output_type": "execute_result",
          "data": {
            "text/plain": [
              "<keras.callbacks.History at 0x7f52bf09bb50>"
            ]
          },
          "metadata": {},
          "execution_count": 3
        }
      ],
      "source": [
        "import tensorflow as tf\n",
        "import numpy as np\n",
        "from tensorflow import keras\n",
        "\n",
        "class clb(tf.keras.callbacks.Callback):\n",
        "  def on_epoch_end(self ,epochs, logs={}):\n",
        "    if(logs.get('loss') < 0.4):\n",
        "      self.model.stop_training=True\n",
        "callbacks=clb()\n",
        "\n",
        "fmnist = tf.keras.datasets.fashion_mnist\n",
        "(x_i , x_l),(y_i , y_l)=fmnist.load_data()\n",
        "x_i= x_i /255.0\n",
        "y_i=y_i /255.0\n",
        "\n",
        "model= tf.keras.models.Sequential([keras.layers.Flatten(), \n",
        "                                   keras.layers.Dense(128,activation=tf.nn.relu),\n",
        "                                   keras.layers.Dense(10, activation=tf.nn.softmax)\n",
        "                                   \n",
        "                                   ])\n",
        "\n",
        "\n",
        "model.compile(optimizer='adam' , \n",
        "              loss='sparse_categorical_crossentropy',\n",
        "              metrics=['accuracy']              \n",
        "              )\n",
        "\n",
        "model.fit(x_i, x_l , epochs=5 , callbacks=[callbacks])"
      ]
    }
  ]
}